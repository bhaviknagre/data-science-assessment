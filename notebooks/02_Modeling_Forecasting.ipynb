{
 "cells": [
  {
   "cell_type": "code",
   "execution_count": 10,
   "id": "477e269c",
   "metadata": {},
   "outputs": [
    {
     "name": "stderr",
     "output_type": "stream",
     "text": [
      "C:\\Users\\bhavi\\AppData\\Local\\Temp\\ipykernel_12920\\486729447.py:50: SettingWithCopyWarning: \n",
      "A value is trying to be set on a copy of a slice from a DataFrame.\n",
      "Try using .loc[row_indexer,col_indexer] = value instead\n",
      "\n",
      "See the caveats in the documentation: https://pandas.pydata.org/pandas-docs/stable/user_guide/indexing.html#returning-a-view-versus-a-copy\n",
      "  train['floor'] = 0\n",
      "14:13:11 - cmdstanpy - INFO - Chain [1] start processing\n",
      "14:13:11 - cmdstanpy - INFO - Chain [1] done processing\n",
      "14:13:11 - cmdstanpy - INFO - Chain [1] done processing\n"
     ]
    },
    {
     "name": "stdout",
     "output_type": "stream",
     "text": [
      "\n",
      "Processing SerialNum 1...\n",
      "Model saved to output/models\\prophet_model_serial_1.pkl\n"
     ]
    },
    {
     "name": "stderr",
     "output_type": "stream",
     "text": [
      "C:\\Users\\bhavi\\AppData\\Local\\Temp\\ipykernel_12920\\486729447.py:68: DeprecationWarning: DataFrameGroupBy.apply operated on the grouping columns. This behavior is deprecated, and in a future version of pandas the grouping columns will be excluded from the operation. Either pass `include_groups=False` to exclude the groupings or explicitly select the grouping columns after groupby to silence this warning.\n",
      "  monthly_accuracy = forecast_valid.groupby('month').apply(\n",
      "C:\\Users\\bhavi\\AppData\\Local\\Temp\\ipykernel_12920\\486729447.py:50: SettingWithCopyWarning: \n",
      "A value is trying to be set on a copy of a slice from a DataFrame.\n",
      "Try using .loc[row_indexer,col_indexer] = value instead\n",
      "\n",
      "See the caveats in the documentation: https://pandas.pydata.org/pandas-docs/stable/user_guide/indexing.html#returning-a-view-versus-a-copy\n",
      "  train['floor'] = 0\n",
      "14:13:11 - cmdstanpy - INFO - Chain [1] start processing\n",
      "C:\\Users\\bhavi\\AppData\\Local\\Temp\\ipykernel_12920\\486729447.py:50: SettingWithCopyWarning: \n",
      "A value is trying to be set on a copy of a slice from a DataFrame.\n",
      "Try using .loc[row_indexer,col_indexer] = value instead\n",
      "\n",
      "See the caveats in the documentation: https://pandas.pydata.org/pandas-docs/stable/user_guide/indexing.html#returning-a-view-versus-a-copy\n",
      "  train['floor'] = 0\n",
      "14:13:11 - cmdstanpy - INFO - Chain [1] start processing\n"
     ]
    },
    {
     "name": "stdout",
     "output_type": "stream",
     "text": [
      "\n",
      "Processing SerialNum 2...\n"
     ]
    },
    {
     "name": "stderr",
     "output_type": "stream",
     "text": [
      "14:13:11 - cmdstanpy - INFO - Chain [1] done processing\n",
      "C:\\Users\\bhavi\\AppData\\Local\\Temp\\ipykernel_12920\\486729447.py:68: DeprecationWarning: DataFrameGroupBy.apply operated on the grouping columns. This behavior is deprecated, and in a future version of pandas the grouping columns will be excluded from the operation. Either pass `include_groups=False` to exclude the groupings or explicitly select the grouping columns after groupby to silence this warning.\n",
      "  monthly_accuracy = forecast_valid.groupby('month').apply(\n",
      "C:\\Users\\bhavi\\AppData\\Local\\Temp\\ipykernel_12920\\486729447.py:50: SettingWithCopyWarning: \n",
      "A value is trying to be set on a copy of a slice from a DataFrame.\n",
      "Try using .loc[row_indexer,col_indexer] = value instead\n",
      "\n",
      "See the caveats in the documentation: https://pandas.pydata.org/pandas-docs/stable/user_guide/indexing.html#returning-a-view-versus-a-copy\n",
      "  train['floor'] = 0\n",
      "14:13:11 - cmdstanpy - INFO - Chain [1] start processing\n",
      "C:\\Users\\bhavi\\AppData\\Local\\Temp\\ipykernel_12920\\486729447.py:68: DeprecationWarning: DataFrameGroupBy.apply operated on the grouping columns. This behavior is deprecated, and in a future version of pandas the grouping columns will be excluded from the operation. Either pass `include_groups=False` to exclude the groupings or explicitly select the grouping columns after groupby to silence this warning.\n",
      "  monthly_accuracy = forecast_valid.groupby('month').apply(\n",
      "C:\\Users\\bhavi\\AppData\\Local\\Temp\\ipykernel_12920\\486729447.py:50: SettingWithCopyWarning: \n",
      "A value is trying to be set on a copy of a slice from a DataFrame.\n",
      "Try using .loc[row_indexer,col_indexer] = value instead\n",
      "\n",
      "See the caveats in the documentation: https://pandas.pydata.org/pandas-docs/stable/user_guide/indexing.html#returning-a-view-versus-a-copy\n",
      "  train['floor'] = 0\n",
      "14:13:11 - cmdstanpy - INFO - Chain [1] start processing\n"
     ]
    },
    {
     "name": "stdout",
     "output_type": "stream",
     "text": [
      "Model saved to output/models\\prophet_model_serial_2.pkl\n",
      "\n",
      "Processing SerialNum 3...\n",
      "Skipping SerialNum 3: Not enough training data.\n",
      "\n",
      "Processing SerialNum 4...\n"
     ]
    },
    {
     "name": "stderr",
     "output_type": "stream",
     "text": [
      "14:13:11 - cmdstanpy - INFO - Chain [1] done processing\n",
      "C:\\Users\\bhavi\\AppData\\Local\\Temp\\ipykernel_12920\\486729447.py:68: DeprecationWarning: DataFrameGroupBy.apply operated on the grouping columns. This behavior is deprecated, and in a future version of pandas the grouping columns will be excluded from the operation. Either pass `include_groups=False` to exclude the groupings or explicitly select the grouping columns after groupby to silence this warning.\n",
      "  monthly_accuracy = forecast_valid.groupby('month').apply(\n",
      "C:\\Users\\bhavi\\AppData\\Local\\Temp\\ipykernel_12920\\486729447.py:50: SettingWithCopyWarning: \n",
      "A value is trying to be set on a copy of a slice from a DataFrame.\n",
      "Try using .loc[row_indexer,col_indexer] = value instead\n",
      "\n",
      "See the caveats in the documentation: https://pandas.pydata.org/pandas-docs/stable/user_guide/indexing.html#returning-a-view-versus-a-copy\n",
      "  train['floor'] = 0\n",
      "14:13:11 - cmdstanpy - INFO - Chain [1] start processing\n",
      "C:\\Users\\bhavi\\AppData\\Local\\Temp\\ipykernel_12920\\486729447.py:68: DeprecationWarning: DataFrameGroupBy.apply operated on the grouping columns. This behavior is deprecated, and in a future version of pandas the grouping columns will be excluded from the operation. Either pass `include_groups=False` to exclude the groupings or explicitly select the grouping columns after groupby to silence this warning.\n",
      "  monthly_accuracy = forecast_valid.groupby('month').apply(\n",
      "C:\\Users\\bhavi\\AppData\\Local\\Temp\\ipykernel_12920\\486729447.py:50: SettingWithCopyWarning: \n",
      "A value is trying to be set on a copy of a slice from a DataFrame.\n",
      "Try using .loc[row_indexer,col_indexer] = value instead\n",
      "\n",
      "See the caveats in the documentation: https://pandas.pydata.org/pandas-docs/stable/user_guide/indexing.html#returning-a-view-versus-a-copy\n",
      "  train['floor'] = 0\n",
      "14:13:11 - cmdstanpy - INFO - Chain [1] start processing\n"
     ]
    },
    {
     "name": "stdout",
     "output_type": "stream",
     "text": [
      "Model saved to output/models\\prophet_model_serial_4.pkl\n",
      "\n",
      "Processing SerialNum 5...\n"
     ]
    },
    {
     "name": "stderr",
     "output_type": "stream",
     "text": [
      "14:13:11 - cmdstanpy - INFO - Chain [1] done processing\n"
     ]
    },
    {
     "name": "stdout",
     "output_type": "stream",
     "text": [
      "Model saved to output/models\\prophet_model_serial_5.pkl\n",
      "\n",
      "✅ Forecasting complete.\n",
      "- Forecasts saved to: output/sept_nov_forecast.csv\n",
      "- Accuracy results saved to: output/validation_accuracy_Jun_Jul_Aug.csv\n",
      "- Trained models saved in: output/models\n",
      "- Total SerialNums processed: 5\n",
      "- Successfully trained models: 4\n",
      "- Skipped SerialNums due to insufficient data: 1\n"
     ]
    },
    {
     "name": "stderr",
     "output_type": "stream",
     "text": [
      "C:\\Users\\bhavi\\AppData\\Local\\Temp\\ipykernel_12920\\486729447.py:68: DeprecationWarning: DataFrameGroupBy.apply operated on the grouping columns. This behavior is deprecated, and in a future version of pandas the grouping columns will be excluded from the operation. Either pass `include_groups=False` to exclude the groupings or explicitly select the grouping columns after groupby to silence this warning.\n",
      "  monthly_accuracy = forecast_valid.groupby('month').apply(\n"
     ]
    }
   ],
   "source": [
    "# forecasting_sales_prophet.py\n",
    "\n",
    "import os\n",
    "import pickle\n",
    "import pandas as pd\n",
    "from prophet import Prophet\n",
    "from sklearn.metrics import mean_absolute_error\n",
    "\n",
    "# === CONFIGURATION ===\n",
    "INPUT_PATH = \"../outputs/cleaned_sales.csv\"\n",
    "MODEL_DIR = \"output/models\"\n",
    "FORECAST_OUTPUT = \"output/sept_nov_forecast.csv\"\n",
    "ACCURACY_OUTPUT = \"output/validation_accuracy_Jun_Jul_Aug.csv\"\n",
    "FORECAST_HORIZON_WEEKS = 13\n",
    "VALIDATION_START = pd.to_datetime(\"2024-06-01\")\n",
    "VALIDATION_END = pd.to_datetime(\"2024-08-31\")\n",
    "\n",
    "# === PREPARE OUTPUT DIRECTORIES ===\n",
    "os.makedirs(\"output\", exist_ok=True)\n",
    "os.makedirs(MODEL_DIR, exist_ok=True)\n",
    "\n",
    "# === LOAD AND PREPARE DATA ===\n",
    "df = pd.read_csv(INPUT_PATH)\n",
    "df = df.rename(columns={\"SerailNum\": \"SerialNum\"})\n",
    "df['weekend_date'] = pd.to_datetime(df['weekend_date'], format='mixed', dayfirst=True)\n",
    "serials = df['SerialNum'].unique()\n",
    "\n",
    "forecast_results = []\n",
    "accuracy_results = []\n",
    "\n",
    "def train_and_forecast_for_serial(serial, data):\n",
    "    print(f\"\\nProcessing SerialNum {serial}...\")\n",
    "\n",
    "    data = data[['weekend_date', 'quantity']].rename(columns={'weekend_date': 'ds', 'quantity': 'y'}).dropna()\n",
    "    data = data.sort_values('ds')\n",
    "\n",
    "    if len(data) < 2:\n",
    "        print(f\"Skipping SerialNum {serial}: Not enough total data.\")\n",
    "        return\n",
    "\n",
    "    train = data[data['ds'] < VALIDATION_START]\n",
    "    valid = data[(data['ds'] >= VALIDATION_START) & (data['ds'] <= VALIDATION_END)]\n",
    "\n",
    "    if len(train) < 2:\n",
    "        print(f\"Skipping SerialNum {serial}: Not enough training data.\")\n",
    "        return\n",
    "\n",
    "    # === TRAINING ===\n",
    "    model = Prophet(weekly_seasonality=True, yearly_seasonality=True, growth='linear')\n",
    "    train['floor'] = 0\n",
    "    model.fit(train)\n",
    "\n",
    "    # === SAVE MODEL ===\n",
    "    model_filename = os.path.join(MODEL_DIR, f\"prophet_model_serial_{serial}.pkl\")\n",
    "    with open(model_filename, 'wb') as f:\n",
    "        pickle.dump(model, f)\n",
    "    print(f\"Model saved to {model_filename}\")\n",
    "\n",
    "    # === VALIDATION FORECAST ===\n",
    "    future_valid = model.make_future_dataframe(periods=len(valid), freq='W')\n",
    "    future_valid['floor'] = 0\n",
    "    forecast_valid = model.predict(future_valid)[['ds', 'yhat']].tail(len(valid)).reset_index(drop=True)\n",
    "    forecast_valid['yhat'] = forecast_valid['yhat'].clip(lower=0)\n",
    "    forecast_valid['actual'] = valid['y'].values\n",
    "    forecast_valid['SerialNum'] = serial\n",
    "    forecast_valid['month'] = forecast_valid['ds'].dt.month\n",
    "\n",
    "    monthly_accuracy = forecast_valid.groupby('month').apply(\n",
    "        lambda g: 1 - (abs(g['yhat'] - g['actual']).sum() / g['actual'].sum())\n",
    "    ).reset_index()\n",
    "    monthly_accuracy.columns = ['month', 'accuracy']\n",
    "    monthly_accuracy['SerialNum'] = serial\n",
    "    accuracy_results.append(monthly_accuracy)\n",
    "\n",
    "    # === FUTURE FORECAST ===\n",
    "    future = model.make_future_dataframe(periods=FORECAST_HORIZON_WEEKS, freq='W')\n",
    "    future['floor'] = 0\n",
    "    forecast_future = model.predict(future)[['ds', 'yhat']].tail(FORECAST_HORIZON_WEEKS)\n",
    "    forecast_future['yhat'] = forecast_future['yhat'].clip(lower=0)\n",
    "    forecast_future['SerialNum'] = serial\n",
    "    forecast_results.append(forecast_future)\n",
    "\n",
    "# === PROCESS EACH SERIAL NUMBER ===\n",
    "for serial in serials:\n",
    "    serial_df = df[df['SerialNum'] == serial]\n",
    "    train_and_forecast_for_serial(serial, serial_df)\n",
    "\n",
    "# === SAVE OUTPUTS ===\n",
    "pd.concat(forecast_results).to_csv(FORECAST_OUTPUT, index=False)\n",
    "pd.concat(accuracy_results).to_csv(ACCURACY_OUTPUT, index=False)\n",
    "\n",
    "# === SUMMARY ===\n",
    "print(\"\\n✅ Forecasting complete.\")\n",
    "print(f\"- Forecasts saved to: {FORECAST_OUTPUT}\")\n",
    "print(f\"- Accuracy results saved to: {ACCURACY_OUTPUT}\")\n",
    "print(f\"- Trained models saved in: {MODEL_DIR}\")\n",
    "print(f\"- Total SerialNums processed: {len(serials)}\")\n",
    "print(f\"- Successfully trained models: {len(forecast_results)}\")\n",
    "if len(forecast_results) < len(serials):\n",
    "    print(f\"- Skipped SerialNums due to insufficient data: {len(serials) - len(forecast_results)}\")\n",
    "\n",
    "# === OPTIONAL: LOADER FUNCTION ===\n",
    "def load_prophet_model(serial_num):\n",
    "    \"\"\"Load a saved Prophet model for a specific SerialNum.\"\"\"\n",
    "    model_path = os.path.join(MODEL_DIR, f\"prophet_model_serial_{serial_num}.pkl\")\n",
    "    with open(model_path, 'rb') as f:\n",
    "        return pickle.load(f)\n"
   ]
  },
  {
   "cell_type": "code",
   "execution_count": null,
   "id": "dcd0679c",
   "metadata": {},
   "outputs": [],
   "source": []
  }
 ],
 "metadata": {
  "kernelspec": {
   "display_name": "Python 3",
   "language": "python",
   "name": "python3"
  },
  "language_info": {
   "codemirror_mode": {
    "name": "ipython",
    "version": 3
   },
   "file_extension": ".py",
   "mimetype": "text/x-python",
   "name": "python",
   "nbconvert_exporter": "python",
   "pygments_lexer": "ipython3",
   "version": "3.10.11"
  }
 },
 "nbformat": 4,
 "nbformat_minor": 5
}
